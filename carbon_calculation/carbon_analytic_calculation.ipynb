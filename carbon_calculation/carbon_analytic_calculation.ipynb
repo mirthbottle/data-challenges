{
 "cells": [
  {
   "cell_type": "markdown",
   "metadata": {},
   "source": [
    "# YvesBlue Backend Challenge\n",
    "## Carbon Analytic Calculation\n",
    "### Goal: Utilizing this Jupyter Notebook (and additional libraries/files/tools as needed) implement a function that can be utilized to calculate the (strawman) Adjusted CO2 Total emissions for a company. \n",
    "### Notes: The calculation is laid out in this [image](calculation.png?raw=true). The data is stored inside of the [included data file](data.json?raw=true). Your code structure can take whatever you believe to be best (individual function, class, module, etc.). Please implement the code as well as write tests for the calculation, showcasing how you would write tests for such requirements. Provide instructions with your submission for how to call your implemented function as well as how to run the tests.\n",
    "## Author: @github_username (Full Name)\n",
    "## Date: YYYY-MM-DD"
   ]
  },
  {
   "cell_type": "code",
   "execution_count": 31,
   "metadata": {},
   "outputs": [],
   "source": [
    "%load_ext autoreload\n",
    "%autoreload 2"
   ]
  },
  {
   "cell_type": "code",
   "execution_count": 55,
   "metadata": {},
   "outputs": [],
   "source": [
    "## Import Libraries\n",
    "import decimal as d\n",
    "import json\n",
    "import os\n",
    "\n",
    "import numpy\n",
    "import pandas as pd"
   ]
  },
  {
   "cell_type": "code",
   "execution_count": 51,
   "metadata": {},
   "outputs": [],
   "source": [
    "with open(\"data.json\") as f:\n",
    "    data = json.load(f, parse_float=d.Decimal)"
   ]
  },
  {
   "cell_type": "code",
   "execution_count": 52,
   "metadata": {},
   "outputs": [],
   "source": [
    "data_df = pd.DataFrame(data).set_index(\"ISIN\")"
   ]
  },
  {
   "cell_type": "code",
   "execution_count": 73,
   "metadata": {},
   "outputs": [],
   "source": [
    "data_df.to_excel(\"data.xlsx\")"
   ]
  },
  {
   "cell_type": "code",
   "execution_count": 44,
   "metadata": {},
   "outputs": [
    {
     "data": {
      "text/html": [
       "<div>\n",
       "<style scoped>\n",
       "    .dataframe tbody tr th:only-of-type {\n",
       "        vertical-align: middle;\n",
       "    }\n",
       "\n",
       "    .dataframe tbody tr th {\n",
       "        vertical-align: top;\n",
       "    }\n",
       "\n",
       "    .dataframe thead th {\n",
       "        text-align: right;\n",
       "    }\n",
       "</style>\n",
       "<table border=\"1\" class=\"dataframe\">\n",
       "  <thead>\n",
       "    <tr style=\"text-align: right;\">\n",
       "      <th></th>\n",
       "      <th>Total Energy Use</th>\n",
       "      <th>Total CO2 Equivalents Emissions</th>\n",
       "      <th>Renewable Energy Purchased</th>\n",
       "      <th>Renewable Energy Produced</th>\n",
       "      <th>Carbon Credit Value</th>\n",
       "      <th>CO2 Analytic</th>\n",
       "    </tr>\n",
       "    <tr>\n",
       "      <th>ISIN</th>\n",
       "      <th></th>\n",
       "      <th></th>\n",
       "      <th></th>\n",
       "      <th></th>\n",
       "      <th></th>\n",
       "      <th></th>\n",
       "    </tr>\n",
       "  </thead>\n",
       "  <tbody>\n",
       "    <tr>\n",
       "      <th>US0000000006</th>\n",
       "      <td>445000000</td>\n",
       "      <td>64963.62994</td>\n",
       "      <td>9515.906056</td>\n",
       "      <td>24720.733080</td>\n",
       "      <td>10556.113590</td>\n",
       "      <td>53170.89797</td>\n",
       "    </tr>\n",
       "    <tr>\n",
       "      <th>US0000000007</th>\n",
       "      <td>518000000</td>\n",
       "      <td>89288.41927</td>\n",
       "      <td>32904.927480</td>\n",
       "      <td>4051.865565</td>\n",
       "      <td>8902.593156</td>\n",
       "      <td>80180.67966</td>\n",
       "    </tr>\n",
       "    <tr>\n",
       "      <th>US0000000011</th>\n",
       "      <td>810000000</td>\n",
       "      <td>219384.62410</td>\n",
       "      <td>18766.813620</td>\n",
       "      <td>13746.231470</td>\n",
       "      <td>47047.328130</td>\n",
       "      <td>171647.98800</td>\n",
       "    </tr>\n",
       "  </tbody>\n",
       "</table>\n",
       "</div>"
      ],
      "text/plain": [
       "              Total Energy Use  Total CO2 Equivalents Emissions  \\\n",
       "ISIN                                                              \n",
       "US0000000006         445000000                      64963.62994   \n",
       "US0000000007         518000000                      89288.41927   \n",
       "US0000000011         810000000                     219384.62410   \n",
       "\n",
       "              Renewable Energy Purchased  Renewable Energy Produced  \\\n",
       "ISIN                                                                  \n",
       "US0000000006                 9515.906056               24720.733080   \n",
       "US0000000007                32904.927480                4051.865565   \n",
       "US0000000011                18766.813620               13746.231470   \n",
       "\n",
       "              Carbon Credit Value  CO2 Analytic  \n",
       "ISIN                                             \n",
       "US0000000006         10556.113590   53170.89797  \n",
       "US0000000007          8902.593156   80180.67966  \n",
       "US0000000011         47047.328130  171647.98800  "
      ]
     },
     "execution_count": 44,
     "metadata": {},
     "output_type": "execute_result"
    }
   ],
   "source": [
    "data_df.loc[~data_df[\"CO2 Analytic\"].isnull()]"
   ]
  },
  {
   "cell_type": "code",
   "execution_count": 74,
   "metadata": {},
   "outputs": [
    {
     "data": {
      "text/plain": [
       "Index(['Total Energy Use', 'Total CO2 Equivalents Emissions',\n",
       "       'Renewable Energy Purchased', 'Renewable Energy Produced',\n",
       "       'Carbon Credit Value', 'CO2 Analytic'],\n",
       "      dtype='object')"
      ]
     },
     "execution_count": 74,
     "metadata": {},
     "output_type": "execute_result"
    }
   ],
   "source": [
    "data_df.columns"
   ]
  },
  {
   "cell_type": "code",
   "execution_count": 82,
   "metadata": {},
   "outputs": [
    {
     "data": {
      "text/plain": [
       "Decimal('10576.00479')"
      ]
     },
     "execution_count": 82,
     "metadata": {},
     "output_type": "execute_result"
    }
   ],
   "source": [
    "data_df[\"Renewable Energy Purchased\"].values[0]"
   ]
  },
  {
   "cell_type": "code",
   "execution_count": 105,
   "metadata": {},
   "outputs": [],
   "source": [
    "## Demonstrate Solution with Calculation Function\n",
    "# class is in file adj_total_emissions.py\n",
    "import adj_total_emissions as ate"
   ]
  },
  {
   "cell_type": "code",
   "execution_count": 106,
   "metadata": {},
   "outputs": [
    {
     "data": {
      "text/html": [
       "<div>\n",
       "<style scoped>\n",
       "    .dataframe tbody tr th:only-of-type {\n",
       "        vertical-align: middle;\n",
       "    }\n",
       "\n",
       "    .dataframe tbody tr th {\n",
       "        vertical-align: top;\n",
       "    }\n",
       "\n",
       "    .dataframe thead th {\n",
       "        text-align: right;\n",
       "    }\n",
       "</style>\n",
       "<table border=\"1\" class=\"dataframe\">\n",
       "  <thead>\n",
       "    <tr style=\"text-align: right;\">\n",
       "      <th></th>\n",
       "      <th>Total Energy Use</th>\n",
       "      <th>Total CO2 Equivalents Emissions</th>\n",
       "      <th>Renewable Energy Purchased</th>\n",
       "      <th>Renewable Energy Produced</th>\n",
       "      <th>Carbon Credit Value</th>\n",
       "      <th>CO2 Analytic</th>\n",
       "      <th>adj emissions</th>\n",
       "    </tr>\n",
       "    <tr>\n",
       "      <th>ISIN</th>\n",
       "      <th></th>\n",
       "      <th></th>\n",
       "      <th></th>\n",
       "      <th></th>\n",
       "      <th></th>\n",
       "      <th></th>\n",
       "      <th></th>\n",
       "    </tr>\n",
       "  </thead>\n",
       "  <tbody>\n",
       "    <tr>\n",
       "      <th>US0000000000</th>\n",
       "      <td>7000000</td>\n",
       "      <td>94972.49198</td>\n",
       "      <td>10576.00479</td>\n",
       "      <td>96652.16115</td>\n",
       "      <td>8171.323352</td>\n",
       "      <td>NaN</td>\n",
       "      <td>81902.98845798661959084857143</td>\n",
       "    </tr>\n",
       "    <tr>\n",
       "      <th>US0000000001</th>\n",
       "      <td>80000000</td>\n",
       "      <td>306900.6192</td>\n",
       "      <td>31961.79405</td>\n",
       "      <td>38372.1921</td>\n",
       "      <td>57387.1</td>\n",
       "      <td>NaN</td>\n",
       "      <td>247545.06647179149299525000</td>\n",
       "    </tr>\n",
       "    <tr>\n",
       "      <th>US0000000002</th>\n",
       "      <td>153000000</td>\n",
       "      <td>171320.1651</td>\n",
       "      <td>62884.91047</td>\n",
       "      <td>10689.83474</td>\n",
       "      <td>84303.7259</td>\n",
       "      <td>NaN</td>\n",
       "      <td>86464.06504146892092018300654</td>\n",
       "    </tr>\n",
       "    <tr>\n",
       "      <th>US0000000003</th>\n",
       "      <td>226000000</td>\n",
       "      <td>2250.272892</td>\n",
       "      <td>12949.74785</td>\n",
       "      <td>27468.66907</td>\n",
       "      <td>45713.96386</td>\n",
       "      <td>NaN</td>\n",
       "      <td>-44835.87919176843822473716814</td>\n",
       "    </tr>\n",
       "    <tr>\n",
       "      <th>US0000000004</th>\n",
       "      <td>299000000</td>\n",
       "      <td>132696.7376</td>\n",
       "      <td>42559.65263</td>\n",
       "      <td>69567.95366</td>\n",
       "      <td>17515.5</td>\n",
       "      <td>NaN</td>\n",
       "      <td>111694.6424697395493396521739</td>\n",
       "    </tr>\n",
       "  </tbody>\n",
       "</table>\n",
       "</div>"
      ],
      "text/plain": [
       "              Total Energy Use Total CO2 Equivalents Emissions  \\\n",
       "ISIN                                                             \n",
       "US0000000000           7000000                     94972.49198   \n",
       "US0000000001          80000000                     306900.6192   \n",
       "US0000000002         153000000                     171320.1651   \n",
       "US0000000003         226000000                     2250.272892   \n",
       "US0000000004         299000000                     132696.7376   \n",
       "\n",
       "             Renewable Energy Purchased Renewable Energy Produced  \\\n",
       "ISIN                                                                \n",
       "US0000000000                10576.00479               96652.16115   \n",
       "US0000000001                31961.79405                38372.1921   \n",
       "US0000000002                62884.91047               10689.83474   \n",
       "US0000000003                12949.74785               27468.66907   \n",
       "US0000000004                42559.65263               69567.95366   \n",
       "\n",
       "             Carbon Credit Value CO2 Analytic                   adj emissions  \n",
       "ISIN                                                                           \n",
       "US0000000000         8171.323352          NaN   81902.98845798661959084857143  \n",
       "US0000000001             57387.1          NaN     247545.06647179149299525000  \n",
       "US0000000002          84303.7259          NaN   86464.06504146892092018300654  \n",
       "US0000000003         45713.96386          NaN  -44835.87919176843822473716814  \n",
       "US0000000004             17515.5          NaN   111694.6424697395493396521739  "
      ]
     },
     "execution_count": 106,
     "metadata": {},
     "output_type": "execute_result"
    }
   ],
   "source": [
    "computer = ate.AdjTotalComputer()\n",
    "data_df.loc[:, \"adj emissions\"] = data_df.apply(computer.get_carbon_emissions, 1)\n",
    "data_df.head()"
   ]
  },
  {
   "cell_type": "code",
   "execution_count": 88,
   "metadata": {},
   "outputs": [
    {
     "data": {
      "text/plain": [
       "Decimal('171647.9879632202198968448148')"
      ]
     },
     "execution_count": 88,
     "metadata": {},
     "output_type": "execute_result"
    }
   ],
   "source": [
    "## Test Calculation Function\n",
    "computer.get_carbon_emissions(data_df.loc[\"US0000000011\"])"
   ]
  },
  {
   "cell_type": "code",
   "execution_count": 111,
   "metadata": {},
   "outputs": [],
   "source": [
    "import unittest\n",
    "w_answers = [r for r in data if r.get(\"CO2 Analytic\")]"
   ]
  },
  {
   "cell_type": "code",
   "execution_count": 112,
   "metadata": {},
   "outputs": [],
   "source": [
    "class TestAdjTotalComputer(unittest.TestCase):\n",
    "    def setUp(self):\n",
    "        self.computer = ate.AdjTotalComputer()\n",
    "        \n",
    "    def test_init(self):\n",
    "        self.assertEqual(self.computer.psi_prod*20, 1)\n",
    "        \n",
    "    def test_answers(self):\n",
    "        for rec in w_answers:\n",
    "            self.assertTrue(\n",
    "                abs(self.computer.get_carbon_emissions(rec)-rec[\"CO2 Analytic\"]) < d.Decimal(0.0001))\n",
    "            \n",
    "    def test_min(self):\n",
    "        rec = {'Total Energy Use': 10,\n",
    "             'Total CO2 Equivalents Emissions': 10,\n",
    "             'Renewable Energy Purchased': 18,\n",
    "             'Renewable Energy Produced': 20,\n",
    "             'Carbon Credit Value': 5}\n",
    "        use_max_purch = self.computer.get_carbon_emissions(rec)\n",
    "        \n",
    "        rec['Renewable Energy Purchased'] = 14\n",
    "        self.assertEqual(use_max_purch, 0)\n",
    "        self.assertTrue(self.computer.get_carbon_emissions(rec)>use_max_purch)\n",
    "        rec['Renewable Energy Purchased'] = 16\n",
    "        self.assertEqual(self.computer.get_carbon_emissions(rec), 0)\n"
   ]
  },
  {
   "cell_type": "code",
   "execution_count": 113,
   "metadata": {},
   "outputs": [
    {
     "name": "stderr",
     "output_type": "stream",
     "text": [
      "test_answers (__main__.TestAdjTotalComputer) ... ok\n",
      "test_init (__main__.TestAdjTotalComputer) ... ok\n",
      "test_min (__main__.TestAdjTotalComputer) ... ok\n",
      "\n",
      "----------------------------------------------------------------------\n",
      "Ran 3 tests in 0.006s\n",
      "\n",
      "OK\n"
     ]
    },
    {
     "data": {
      "text/plain": [
       "<unittest.main.TestProgram at 0x7efd550cfc70>"
      ]
     },
     "execution_count": 113,
     "metadata": {},
     "output_type": "execute_result"
    }
   ],
   "source": [
    "# run this cell for unittests\n",
    "unittest.main(argv=[''], verbosity=2, exit=False)"
   ]
  },
  {
   "cell_type": "code",
   "execution_count": null,
   "metadata": {},
   "outputs": [],
   "source": []
  }
 ],
 "metadata": {
  "kernelspec": {
   "display_name": "Python 3",
   "language": "python",
   "name": "python3"
  },
  "language_info": {
   "codemirror_mode": {
    "name": "ipython",
    "version": 3
   },
   "file_extension": ".py",
   "mimetype": "text/x-python",
   "name": "python",
   "nbconvert_exporter": "python",
   "pygments_lexer": "ipython3",
   "version": "3.9.2"
  }
 },
 "nbformat": 4,
 "nbformat_minor": 4
}
